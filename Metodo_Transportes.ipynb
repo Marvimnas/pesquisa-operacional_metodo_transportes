{
  "nbformat": 4,
  "nbformat_minor": 0,
  "metadata": {
    "colab": {
      "provenance": [],
      "authorship_tag": "ABX9TyN4cMEcifK+RTya8XMmaLsM",
      "include_colab_link": true
    },
    "kernelspec": {
      "name": "python3",
      "display_name": "Python 3"
    },
    "language_info": {
      "name": "python"
    }
  },
  "cells": [
    {
      "cell_type": "markdown",
      "metadata": {
        "id": "view-in-github",
        "colab_type": "text"
      },
      "source": [
        "<a href=\"https://colab.research.google.com/github/Marvimnas/pesquisa-operacional_metodo_transportes/blob/main/Metodo_Transportes.ipynb\" target=\"_parent\"><img src=\"https://colab.research.google.com/assets/colab-badge.svg\" alt=\"Open In Colab\"/></a>"
      ]
    },
    {
      "cell_type": "code",
      "execution_count": null,
      "metadata": {
        "id": "M__wtYsZI6h8"
      },
      "outputs": [],
      "source": [
        "!pip install pulp\n"
      ]
    },
    {
      "cell_type": "code",
      "source": [
        "from pulp import *"
      ],
      "metadata": {
        "id": "LQIw-OOkI_Aq"
      },
      "execution_count": null,
      "outputs": []
    },
    {
      "cell_type": "code",
      "source": [
        "transp = LpProblem('MinTransporte',LpMinimize)\n"
      ],
      "metadata": {
        "id": "5mnl_Cg3JBze"
      },
      "execution_count": null,
      "outputs": []
    },
    {
      "cell_type": "code",
      "source": [
        "x11 = LpVariable('x11', lowBound = 0)\n",
        "x12 = LpVariable('x12', lowBound = 0)\n",
        "x13 = LpVariable('x13', lowBound = 0)\n",
        "x21 = LpVariable('x21', lowBound = 0)\n",
        "x22 = LpVariable('x22', lowBound = 0)\n",
        "x23 = LpVariable('x23', lowBound = 0)\n",
        "x31 = LpVariable('x31', lowBound = 0)\n",
        "x32 = LpVariable('x32', lowBound = 0)\n",
        "x33 = LpVariable('x33', lowBound = 0)"
      ],
      "metadata": {
        "id": "pvfrpcZIJJko"
      },
      "execution_count": null,
      "outputs": []
    },
    {
      "cell_type": "code",
      "source": [
        "transp += 30*x11+35*x12+35*x13+20*x21+30*x22+30*x23+25*x31+32*x32+32*x33"
      ],
      "metadata": {
        "id": "grP0g18yJiuy"
      },
      "execution_count": null,
      "outputs": []
    },
    {
      "cell_type": "code",
      "source": [
        "transp += x11 + x12 + x13 <= 3500\n",
        "transp += x21 + x22 + x23 <= 2500\n",
        "transp += x31 + x32 + x33 <= 1000"
      ],
      "metadata": {
        "id": "9KwQYCffJve9"
      },
      "execution_count": null,
      "outputs": []
    },
    {
      "cell_type": "code",
      "source": [
        "transp += x11 + x21 + x31 == 2500\n",
        "transp += x12 + x22 + x32 == 2000\n",
        "transp += x13 + x23 + x33 == 1500"
      ],
      "metadata": {
        "id": "TjAC8kBeKBM1"
      },
      "execution_count": null,
      "outputs": []
    },
    {
      "cell_type": "code",
      "source": [
        "transp"
      ],
      "metadata": {
        "id": "Zw4VtqcEKH9l"
      },
      "execution_count": null,
      "outputs": []
    },
    {
      "cell_type": "code",
      "source": [
        "transp.solve()"
      ],
      "metadata": {
        "id": "_ytOGRWMKImZ"
      },
      "execution_count": null,
      "outputs": []
    },
    {
      "cell_type": "code",
      "source": [
        "for v in transp.variables(): print (v.name, '=', v.varValue)"
      ],
      "metadata": {
        "id": "nbbatRagKM3q"
      },
      "execution_count": null,
      "outputs": []
    },
    {
      "cell_type": "code",
      "source": [
        "print('Resultado do custo de transporte =', value(transp.objective))"
      ],
      "metadata": {
        "id": "b0IERr64KVBE"
      },
      "execution_count": null,
      "outputs": []
    },
    {
      "cell_type": "code",
      "source": [
        "print('Resultado do custo de transporte =', value(transp.objective)*10)"
      ],
      "metadata": {
        "id": "5QnXqnv-Klcu"
      },
      "execution_count": null,
      "outputs": []
    },
    {
      "cell_type": "code",
      "source": [],
      "metadata": {
        "id": "zonkSpmsK1Az"
      },
      "execution_count": null,
      "outputs": []
    }
  ]
}