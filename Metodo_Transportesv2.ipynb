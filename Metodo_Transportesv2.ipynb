{
  "nbformat": 4,
  "nbformat_minor": 0,
  "metadata": {
    "colab": {
      "provenance": [],
      "authorship_tag": "ABX9TyMVkMR9xY0zgMPR9WNjzNbM",
      "include_colab_link": true
    },
    "kernelspec": {
      "name": "python3",
      "display_name": "Python 3"
    },
    "language_info": {
      "name": "python"
    }
  },
  "cells": [
    {
      "cell_type": "markdown",
      "metadata": {
        "id": "view-in-github",
        "colab_type": "text"
      },
      "source": [
        "<a href=\"https://colab.research.google.com/github/Marvimnas/pesquisa-operacional_metodo_transportes/blob/main/Metodo_Transportesv2.ipynb\" target=\"_parent\"><img src=\"https://colab.research.google.com/assets/colab-badge.svg\" alt=\"Open In Colab\"/></a>"
      ]
    },
    {
      "cell_type": "code",
      "execution_count": null,
      "metadata": {
        "id": "TI_q_WQdvzb4",
        "colab": {
          "base_uri": "https://localhost:8080/"
        },
        "outputId": "bb24bd74-72dc-4703-814e-feceae52d451"
      },
      "outputs": [
        {
          "output_type": "stream",
          "name": "stdout",
          "text": [
            "Collecting pulp\n",
            "  Downloading PuLP-2.9.0-py3-none-any.whl.metadata (5.4 kB)\n",
            "Downloading PuLP-2.9.0-py3-none-any.whl (17.7 MB)\n",
            "\u001b[2K   \u001b[90m━━━━━━━━━━━━━━━━━━━━━━━━━━━━━━━━━━━━━━━━\u001b[0m \u001b[32m17.7/17.7 MB\u001b[0m \u001b[31m21.9 MB/s\u001b[0m eta \u001b[36m0:00:00\u001b[0m\n",
            "\u001b[?25hInstalling collected packages: pulp\n",
            "Successfully installed pulp-2.9.0\n"
          ]
        }
      ],
      "source": [
        "!pip install pulp"
      ]
    },
    {
      "cell_type": "code",
      "source": [
        "from pulp import *"
      ],
      "metadata": {
        "id": "A1nY2mrpwLpJ"
      },
      "execution_count": null,
      "outputs": []
    },
    {
      "cell_type": "code",
      "source": [
        "capacidades = [3500, 2500, 1000]\n",
        "\n",
        "demandas = [2500, 2000, 1500]\n",
        "\n",
        "custos = [\n",
        "         [30, 35, 35],\n",
        "         [20, 30, 30],\n",
        "         [25, 32, 32]\n",
        "         ]"
      ],
      "metadata": {
        "id": "OqQ0g1EbwMRU"
      },
      "execution_count": null,
      "outputs": []
    },
    {
      "cell_type": "code",
      "source": [
        "num_fabricas = len(capacidades)\n",
        "num_clientes = len(demandas)"
      ],
      "metadata": {
        "id": "LC_8V_uGwzNs"
      },
      "execution_count": null,
      "outputs": []
    },
    {
      "cell_type": "code",
      "source": [
        "transp = LpProblem('MinTransporte', LpMinimize)"
      ],
      "metadata": {
        "id": "RYGBbYsOw144"
      },
      "execution_count": null,
      "outputs": []
    },
    {
      "cell_type": "markdown",
      "source": [],
      "metadata": {
        "id": "aePrXBEFoSJK"
      }
    },
    {
      "cell_type": "code",
      "source": [
        "x = {(i, j): LpVariable(f'x{i}_{j}', lowBound=0, cat=LpInteger) for i in range(1, num_fabricas + 1) for j in range(1, num_clientes + 1)}"
      ],
      "metadata": {
        "id": "qT89RPwww7M8"
      },
      "execution_count": null,
      "outputs": []
    },
    {
      "cell_type": "code",
      "source": [
        "transp += lpSum(custos[i-1][j-1] * x[i, j] for i in range(1, num_fabricas + 1) for j in range(1, num_clientes + 1))"
      ],
      "metadata": {
        "id": "XzXc6XPdxCnU"
      },
      "execution_count": null,
      "outputs": []
    },
    {
      "cell_type": "code",
      "source": [
        "for i in range(1, num_fabricas + 1):\n",
        "    transp += lpSum(x[i, j] for j in range(1, num_clientes + 1)) <= capacidades[i - 1]\n",
        "\n",
        "for j in range(1, num_clientes + 1):\n",
        "    transp += lpSum(x[i, j] for i in range(1, num_fabricas + 1)) == demandas[j - 1]"
      ],
      "metadata": {
        "id": "qxYd6O4_xE1E"
      },
      "execution_count": null,
      "outputs": []
    },
    {
      "cell_type": "code",
      "source": [
        "transp"
      ],
      "metadata": {
        "id": "Tmvj5rVsxTc6",
        "colab": {
          "base_uri": "https://localhost:8080/"
        },
        "outputId": "eaf102e2-83c9-499c-feee-342eb84b2200"
      },
      "execution_count": null,
      "outputs": [
        {
          "output_type": "execute_result",
          "data": {
            "text/plain": [
              "MinTransporte:\n",
              "MINIMIZE\n",
              "30*x1_1 + 35*x1_2 + 35*x1_3 + 20*x2_1 + 30*x2_2 + 30*x2_3 + 25*x3_1 + 32*x3_2 + 32*x3_3 + 0\n",
              "SUBJECT TO\n",
              "_C1: x1_1 + x1_2 + x1_3 <= 3500\n",
              "\n",
              "_C2: x2_1 + x2_2 + x2_3 <= 2500\n",
              "\n",
              "_C3: x3_1 + x3_2 + x3_3 <= 1000\n",
              "\n",
              "_C4: x1_1 + x2_1 + x3_1 = 2500\n",
              "\n",
              "_C5: x1_2 + x2_2 + x3_2 = 2000\n",
              "\n",
              "_C6: x1_3 + x2_3 + x3_3 = 1500\n",
              "\n",
              "VARIABLES\n",
              "0 <= x1_1 Integer\n",
              "0 <= x1_2 Integer\n",
              "0 <= x1_3 Integer\n",
              "0 <= x2_1 Integer\n",
              "0 <= x2_2 Integer\n",
              "0 <= x2_3 Integer\n",
              "0 <= x3_1 Integer\n",
              "0 <= x3_2 Integer\n",
              "0 <= x3_3 Integer"
            ]
          },
          "metadata": {},
          "execution_count": 10
        }
      ]
    },
    {
      "cell_type": "code",
      "source": [
        "transp.solve()"
      ],
      "metadata": {
        "id": "uv10dne5xf7V",
        "colab": {
          "base_uri": "https://localhost:8080/"
        },
        "outputId": "3a8a0e6c-4b4e-47de-93c8-287c270475fd"
      },
      "execution_count": null,
      "outputs": [
        {
          "output_type": "execute_result",
          "data": {
            "text/plain": [
              "1"
            ]
          },
          "metadata": {},
          "execution_count": 11
        }
      ]
    },
    {
      "cell_type": "code",
      "source": [
        "print(\"Quantidade a ser produzida:\", LpStatus[transp.status])\n",
        "for v in transp.variables():\n",
        "    print(f\"{v.name} = {v.varValue}\")"
      ],
      "metadata": {
        "id": "htLbe-uHxh-8",
        "colab": {
          "base_uri": "https://localhost:8080/"
        },
        "outputId": "82a3d3dd-ee95-4519-fa84-8300d5c6c4eb"
      },
      "execution_count": null,
      "outputs": [
        {
          "output_type": "stream",
          "name": "stdout",
          "text": [
            "Quantidade a ser produzida: Optimal\n",
            "x1_1 = 0.0\n",
            "x1_2 = 1000.0\n",
            "x1_3 = 1500.0\n",
            "x2_1 = 2500.0\n",
            "x2_2 = 0.0\n",
            "x2_3 = 0.0\n",
            "x3_1 = 0.0\n",
            "x3_2 = 1000.0\n",
            "x3_3 = 0.0\n"
          ]
        }
      ]
    },
    {
      "cell_type": "code",
      "source": [
        "print(\"Custo Total = \", value(transp.objective))"
      ],
      "metadata": {
        "id": "hhcyD7dlxkNZ",
        "colab": {
          "base_uri": "https://localhost:8080/"
        },
        "outputId": "18748c05-e495-4ade-b575-d32758f293fc"
      },
      "execution_count": null,
      "outputs": [
        {
          "output_type": "stream",
          "name": "stdout",
          "text": [
            "Custo Total =  169500.0\n"
          ]
        }
      ]
    },
    {
      "cell_type": "code",
      "source": [
        "!pip install pulp\n",
        "import pulp\n",
        "\n",
        "# Definindo os conjuntos\n",
        "fabricas = ['F1', 'F2', 'F3']\n",
        "clientes = ['C1', 'C2', 'C3']\n",
        "\n",
        "# Parâmetros de oferta das fábricas\n",
        "oferta = {\n",
        "    'F1': 3500,\n",
        "    'F2': 2500,\n",
        "    'F3': 1000\n",
        "}\n",
        "\n",
        "# Parâmetros de demanda dos clientes\n",
        "demanda = {\n",
        "    'C1': 2500,\n",
        "    'C2': 2000,\n",
        "    'C3': 1500\n",
        "}\n",
        "\n",
        "# Custo de transporte unitário de cada fábrica para cada cliente\n",
        "custos = {\n",
        "    ('F1', 'C1'): 30, ('F1', 'C2'): 35, ('F1', 'C3'): 35,\n",
        "    ('F2', 'C1'): 20, ('F2', 'C2'): 30, ('F2', 'C3'): 30,\n",
        "    ('F3', 'C1'): 25, ('F3', 'C2'): 32, ('F3', 'C3'): 32,\n",
        "}\n",
        "\n",
        "# Criando o modelo\n",
        "modelo = pulp.LpProblem(\"Problema_de_Transporte\", pulp.LpMinimize)\n",
        "\n",
        "# Criando as variáveis de decisão\n",
        "x = pulp.LpVariable.dicts(\"x\", [(i, j) for i in fabricas for j in clientes],\n",
        "                          lowBound=0, cat='Continuous')\n",
        "\n",
        "# Função objetivo\n",
        "modelo += pulp.lpSum([custos[i, j] * x[i, j] for i in fabricas for j in clientes]), \"Custo_Total\"\n",
        "\n",
        "# Restrições de oferta (capacidade das fábricas)\n",
        "for i in fabricas:\n",
        "    modelo += pulp.lpSum(x[i, j] for j in clientes) <= oferta[i], f\"Oferta_{i}\"\n",
        "\n",
        "# Restrições de demanda (clientes)\n",
        "for j in clientes:\n",
        "    modelo += pulp.lpSum(x[i, j] for i in fabricas) == demanda[j], f\"Demanda_{j}\"\n",
        "\n",
        "# Resolver o modelo\n",
        "modelo.solve()\n",
        "\n",
        "# Resultados\n",
        "print(f\"Status: {pulp.LpStatus[modelo.status]}\")\n",
        "print(f\"Custo total: {pulp.value(modelo.objective)}\\n\")\n",
        "\n",
        "print(\"Plano de transporte:\")\n",
        "for i in fabricas:\n",
        "    for j in clientes:\n",
        "        var_value = x[i, j].varValue\n",
        "        if var_value > 0:\n",
        "            print(f\"{i} -> {j}: {var_value}\")\n"
      ],
      "metadata": {
        "colab": {
          "base_uri": "https://localhost:8080/"
        },
        "id": "TQOrAFx5pcXK",
        "outputId": "1032ae79-6f8d-4b17-ff76-e8291145aac1"
      },
      "execution_count": null,
      "outputs": [
        {
          "output_type": "stream",
          "name": "stdout",
          "text": [
            "Requirement already satisfied: pulp in /usr/local/lib/python3.11/dist-packages (3.1.1)\n",
            "Status: Optimal\n",
            "Custo total: 169500.0\n",
            "\n",
            "Plano de transporte:\n",
            "F1 -> C2: 1000.0\n",
            "F1 -> C3: 1500.0\n",
            "F2 -> C1: 2500.0\n",
            "F3 -> C2: 1000.0\n"
          ]
        }
      ]
    }
  ]
}