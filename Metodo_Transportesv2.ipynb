{
  "nbformat": 4,
  "nbformat_minor": 0,
  "metadata": {
    "colab": {
      "provenance": [],
      "authorship_tag": "ABX9TyMb8vHpbauvDiybu/puziFB",
      "include_colab_link": true
    },
    "kernelspec": {
      "name": "python3",
      "display_name": "Python 3"
    },
    "language_info": {
      "name": "python"
    }
  },
  "cells": [
    {
      "cell_type": "markdown",
      "metadata": {
        "id": "view-in-github",
        "colab_type": "text"
      },
      "source": [
        "<a href=\"https://colab.research.google.com/github/Marvimnas/pesquisa-operacional_metodo_transportes/blob/main/Metodo_Transportesv2.ipynb\" target=\"_parent\"><img src=\"https://colab.research.google.com/assets/colab-badge.svg\" alt=\"Open In Colab\"/></a>"
      ]
    },
    {
      "cell_type": "code",
      "execution_count": 4,
      "metadata": {
        "id": "TI_q_WQdvzb4",
        "colab": {
          "base_uri": "https://localhost:8080/"
        },
        "outputId": "860138e8-e5a9-4b67-f13f-e0f10c0b981a"
      },
      "outputs": [
        {
          "output_type": "stream",
          "name": "stdout",
          "text": [
            "Requirement already satisfied: pulp in /usr/local/lib/python3.11/dist-packages (3.1.1)\n"
          ]
        }
      ],
      "source": [
        "!pip install pulp"
      ]
    },
    {
      "cell_type": "code",
      "source": [
        "from pulp import *"
      ],
      "metadata": {
        "id": "A1nY2mrpwLpJ"
      },
      "execution_count": 5,
      "outputs": []
    },
    {
      "cell_type": "code",
      "source": [
        "capacidades = [3500, 2500, 1000]\n",
        "\n",
        "demandas = [2500, 2000, 1500]\n",
        "\n",
        "custos = [\n",
        "         [30, 35, 35],\n",
        "         [20, 30, 30],\n",
        "         [25, 32, 32]\n",
        "         ]"
      ],
      "metadata": {
        "id": "OqQ0g1EbwMRU"
      },
      "execution_count": 6,
      "outputs": []
    },
    {
      "cell_type": "code",
      "source": [
        "num_fabricas = len(capacidades)\n",
        "num_clientes = len(demandas)"
      ],
      "metadata": {
        "id": "LC_8V_uGwzNs"
      },
      "execution_count": 7,
      "outputs": []
    },
    {
      "cell_type": "code",
      "source": [
        "transp = LpProblem('MinTransporte', LpMinimize)"
      ],
      "metadata": {
        "id": "RYGBbYsOw144"
      },
      "execution_count": 8,
      "outputs": []
    },
    {
      "cell_type": "markdown",
      "source": [],
      "metadata": {
        "id": "aePrXBEFoSJK"
      }
    },
    {
      "cell_type": "code",
      "source": [
        "x = {(i, j): LpVariable(f'x{i}_{j}', lowBound=0, cat=LpInteger) for i in range(1, num_fabricas + 1) for j in range(1, num_clientes + 1)}"
      ],
      "metadata": {
        "id": "qT89RPwww7M8"
      },
      "execution_count": 9,
      "outputs": []
    },
    {
      "cell_type": "code",
      "source": [
        "transp += lpSum(custos[i-1][j-1] * x[i, j] for i in range(1, num_fabricas + 1) for j in range(1, num_clientes + 1))"
      ],
      "metadata": {
        "id": "XzXc6XPdxCnU"
      },
      "execution_count": 10,
      "outputs": []
    },
    {
      "cell_type": "code",
      "source": [
        "for i in range(1, num_fabricas + 1):\n",
        "    transp += lpSum(x[i, j] for j in range(1, num_clientes + 1)) <= capacidades[i - 1]\n",
        "\n",
        "for j in range(1, num_clientes + 1):\n",
        "    transp += lpSum(x[i, j] for i in range(1, num_fabricas + 1)) == demandas[j - 1]"
      ],
      "metadata": {
        "id": "qxYd6O4_xE1E"
      },
      "execution_count": 11,
      "outputs": []
    },
    {
      "cell_type": "code",
      "source": [
        "transp"
      ],
      "metadata": {
        "id": "Tmvj5rVsxTc6",
        "colab": {
          "base_uri": "https://localhost:8080/"
        },
        "outputId": "b2410afe-4990-43a2-82b1-5c25140edec9"
      },
      "execution_count": 12,
      "outputs": [
        {
          "output_type": "execute_result",
          "data": {
            "text/plain": [
              "MinTransporte:\n",
              "MINIMIZE\n",
              "30*x1_1 + 35*x1_2 + 35*x1_3 + 20*x2_1 + 30*x2_2 + 30*x2_3 + 25*x3_1 + 32*x3_2 + 32*x3_3 + 0.0\n",
              "SUBJECT TO\n",
              "_C1: x1_1 + x1_2 + x1_3 <= 3500\n",
              "\n",
              "_C2: x2_1 + x2_2 + x2_3 <= 2500\n",
              "\n",
              "_C3: x3_1 + x3_2 + x3_3 <= 1000\n",
              "\n",
              "_C4: x1_1 + x2_1 + x3_1 = 2500\n",
              "\n",
              "_C5: x1_2 + x2_2 + x3_2 = 2000\n",
              "\n",
              "_C6: x1_3 + x2_3 + x3_3 = 1500\n",
              "\n",
              "VARIABLES\n",
              "0 <= x1_1 Integer\n",
              "0 <= x1_2 Integer\n",
              "0 <= x1_3 Integer\n",
              "0 <= x2_1 Integer\n",
              "0 <= x2_2 Integer\n",
              "0 <= x2_3 Integer\n",
              "0 <= x3_1 Integer\n",
              "0 <= x3_2 Integer\n",
              "0 <= x3_3 Integer"
            ]
          },
          "metadata": {},
          "execution_count": 12
        }
      ]
    },
    {
      "cell_type": "code",
      "source": [
        "transp.solve()"
      ],
      "metadata": {
        "id": "uv10dne5xf7V",
        "colab": {
          "base_uri": "https://localhost:8080/"
        },
        "outputId": "7e060914-506e-493c-c74d-80a6a8f2aab6"
      },
      "execution_count": 13,
      "outputs": [
        {
          "output_type": "execute_result",
          "data": {
            "text/plain": [
              "1"
            ]
          },
          "metadata": {},
          "execution_count": 13
        }
      ]
    },
    {
      "cell_type": "code",
      "source": [
        "print(\"Quantidade a ser produzida:\", LpStatus[transp.status])\n",
        "for v in transp.variables():\n",
        "    print(f\"{v.name} = {v.varValue}\")"
      ],
      "metadata": {
        "id": "htLbe-uHxh-8",
        "colab": {
          "base_uri": "https://localhost:8080/"
        },
        "outputId": "01d8d2ac-2100-4ae0-a639-2f8910eafa8b"
      },
      "execution_count": 14,
      "outputs": [
        {
          "output_type": "stream",
          "name": "stdout",
          "text": [
            "Quantidade a ser produzida: Optimal\n",
            "x1_1 = 0.0\n",
            "x1_2 = 1000.0\n",
            "x1_3 = 1500.0\n",
            "x2_1 = 2500.0\n",
            "x2_2 = 0.0\n",
            "x2_3 = 0.0\n",
            "x3_1 = 0.0\n",
            "x3_2 = 1000.0\n",
            "x3_3 = 0.0\n"
          ]
        }
      ]
    },
    {
      "cell_type": "code",
      "source": [
        "print(\"Custo Total = \", value(transp.objective))"
      ],
      "metadata": {
        "id": "hhcyD7dlxkNZ",
        "colab": {
          "base_uri": "https://localhost:8080/"
        },
        "outputId": "c244ee96-705a-4e98-fa46-fa67a75b9566"
      },
      "execution_count": 15,
      "outputs": [
        {
          "output_type": "stream",
          "name": "stdout",
          "text": [
            "Custo Total =  169500.0\n"
          ]
        }
      ]
    }
  ]
}